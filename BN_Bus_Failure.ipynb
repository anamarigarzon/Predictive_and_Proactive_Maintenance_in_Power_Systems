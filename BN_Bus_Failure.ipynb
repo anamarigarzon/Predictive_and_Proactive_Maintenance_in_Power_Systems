{
  "nbformat": 4,
  "nbformat_minor": 0,
  "metadata": {
    "colab": {
      "provenance": [],
      "authorship_tag": "ABX9TyPLh8apZQtoDWRbr3c2z1zu",
      "include_colab_link": true
    },
    "kernelspec": {
      "name": "python3",
      "display_name": "Python 3"
    },
    "language_info": {
      "name": "python"
    }
  },
  "cells": [
    {
      "cell_type": "markdown",
      "metadata": {
        "id": "view-in-github",
        "colab_type": "text"
      },
      "source": [
        "<a href=\"https://colab.research.google.com/github/anamarigarzon/Predictive_and_Proactive_Maintenance_in_Power_Systems/blob/main/BN_Bus_Failure.ipynb\" target=\"_parent\"><img src=\"https://colab.research.google.com/assets/colab-badge.svg\" alt=\"Open In Colab\"/></a>"
      ]
    },
    {
      "cell_type": "markdown",
      "source": [
        "# Bus Failure Simulation with Bayesian Networks\n",
        "\n",
        "This project presents a method to predict failure in a bus system using a classical approach: Bayesian Networks.\n",
        "\n",
        "The aim of this implementation is to compare the results with machine learning methods, in terms of computation cost, time, and accuracy.\n",
        "\n",
        "## Bayesian Networks\n",
        "\n",
        "A Bayesian network is based on a directed acyclic graph, where each vertex is labeled with a conditional probability table based on its ancestry. For the implementation made here, we will use the pyAgrum library."
      ],
      "metadata": {
        "id": "3PB9NK6vz4yA"
      }
    },
    {
      "cell_type": "code",
      "execution_count": null,
      "metadata": {
        "colab": {
          "base_uri": "https://localhost:8080/"
        },
        "id": "m424R_4Bz31T",
        "outputId": "bdfe465d-7848-40b6-e617-139ac3d50419"
      },
      "outputs": [
        {
          "output_type": "stream",
          "name": "stdout",
          "text": [
            "Collecting pyAgrum\n",
            "  Downloading pyAgrum-1.9.0-cp310-cp310-manylinux2014_x86_64.whl (5.6 MB)\n",
            "\u001b[2K     \u001b[90m━━━━━━━━━━━━━━━━━━━━━━━━━━━━━━━━━━━━━━━━\u001b[0m \u001b[32m5.6/5.6 MB\u001b[0m \u001b[31m12.5 MB/s\u001b[0m eta \u001b[36m0:00:00\u001b[0m\n",
            "\u001b[?25hRequirement already satisfied: numpy in /usr/local/lib/python3.10/dist-packages (from pyAgrum) (1.22.4)\n",
            "Requirement already satisfied: matplotlib in /usr/local/lib/python3.10/dist-packages (from pyAgrum) (3.7.1)\n",
            "Requirement already satisfied: pydot in /usr/local/lib/python3.10/dist-packages (from pyAgrum) (1.4.2)\n",
            "Requirement already satisfied: contourpy>=1.0.1 in /usr/local/lib/python3.10/dist-packages (from matplotlib->pyAgrum) (1.1.0)\n",
            "Requirement already satisfied: cycler>=0.10 in /usr/local/lib/python3.10/dist-packages (from matplotlib->pyAgrum) (0.11.0)\n",
            "Requirement already satisfied: fonttools>=4.22.0 in /usr/local/lib/python3.10/dist-packages (from matplotlib->pyAgrum) (4.41.1)\n",
            "Requirement already satisfied: kiwisolver>=1.0.1 in /usr/local/lib/python3.10/dist-packages (from matplotlib->pyAgrum) (1.4.4)\n",
            "Requirement already satisfied: packaging>=20.0 in /usr/local/lib/python3.10/dist-packages (from matplotlib->pyAgrum) (23.1)\n",
            "Requirement already satisfied: pillow>=6.2.0 in /usr/local/lib/python3.10/dist-packages (from matplotlib->pyAgrum) (9.4.0)\n",
            "Requirement already satisfied: pyparsing>=2.3.1 in /usr/local/lib/python3.10/dist-packages (from matplotlib->pyAgrum) (3.1.0)\n",
            "Requirement already satisfied: python-dateutil>=2.7 in /usr/local/lib/python3.10/dist-packages (from matplotlib->pyAgrum) (2.8.2)\n",
            "Requirement already satisfied: six>=1.5 in /usr/local/lib/python3.10/dist-packages (from python-dateutil>=2.7->matplotlib->pyAgrum) (1.16.0)\n",
            "Installing collected packages: pyAgrum\n",
            "Successfully installed pyAgrum-1.9.0\n"
          ]
        }
      ],
      "source": [
        "!pip install pyAgrum"
      ]
    },
    {
      "cell_type": "code",
      "source": [
        "import pyAgrum as gum\n",
        "import pyAgrum.lib.notebook as gnb\n",
        "gum.config['notebook','potential_visible_digits']=4"
      ],
      "metadata": {
        "id": "gCSeMswY8TM3"
      },
      "execution_count": null,
      "outputs": []
    },
    {
      "cell_type": "markdown",
      "source": [
        "Now, we will show how the Bayesian Network works with a simple but interesting problem taken from: https://math.stackexchange.com/questions/948854/probability-problem-on-a-cancer-test\n",
        "\n",
        "*There is a test to find out if a person has cancer.*\n",
        "\n",
        "*1. 95% of people who will take this test AND have cancer will get a positive ID that they have cancer.*\n",
        "\n",
        "*2. 2% of people who take this test who DON'T have cancer will also get a positive ID that they have cancer.*\n",
        "\n",
        "*3. The chances that a person who is taking this test has cancer is 8%.*\n",
        "\n",
        "*What is the probability for a person to have cancer given that he will take the test and get a positive result?*\n",
        "\n",
        "First, we are going to create the situation graph"
      ],
      "metadata": {
        "id": "I9Km5X_A8ejt"
      }
    },
    {
      "cell_type": "code",
      "source": [
        "bn=gum.fastBN(\"Has_Cancer->Test_Result\")"
      ],
      "metadata": {
        "id": "NxKd3Q1qAewY"
      },
      "execution_count": null,
      "outputs": []
    },
    {
      "cell_type": "markdown",
      "source": [
        "Let's add the probabilities!"
      ],
      "metadata": {
        "id": "90Hg5YHsDGEh"
      }
    },
    {
      "cell_type": "code",
      "source": [
        "bn.cpt('Has_Cancer').fillWith([0.92,0.08]) # The chances that a person who is taking this test has cancer\n",
        "bn.cpt('Test_Result')[{'Has_Cancer': 1}] = [0.05,0.95] # 95% of people who will take this test AND have cancer will get a positive ID that they have cancer.\n",
        "bn.cpt('Test_Result')[{'Has_Cancer': 0}] = [0.98,0.02] # 2% of people who take this test who DON'T have cancer will also get a positive ID that they have cancer."
      ],
      "metadata": {
        "id": "rSY3iBYmDTLM"
      },
      "execution_count": null,
      "outputs": []
    },
    {
      "cell_type": "markdown",
      "source": [
        "Now, we're going to visualize the situation"
      ],
      "metadata": {
        "id": "MSvFTSZLFG8v"
      }
    },
    {
      "cell_type": "code",
      "source": [
        "gnb.sideBySide(bn.cpt('Has_Cancer'))\n",
        "gnb.sideBySide(bn.cpt('Test_Result'))"
      ],
      "metadata": {
        "colab": {
          "base_uri": "https://localhost:8080/",
          "height": 183
        },
        "id": "WVwhJfHBFKUI",
        "outputId": "63f982b4-52e1-40c8-8bfa-9a4d3d753261"
      },
      "execution_count": null,
      "outputs": [
        {
          "output_type": "display_data",
          "data": {
            "text/plain": [
              "<IPython.core.display.HTML object>"
            ],
            "text/html": [
              "<table style=\"border-style: hidden; border-collapse: collapse;\" width=\"100%\"><tr><td style=\"border-top:hidden;border-bottom:hidden;vertical-align:middle;\"><div align=\"center\" style=\"vertical-align:middle;\"><table style=\"border:1px solid black;\">\n",
              "<tr style='border:1px solid black;color:black;background-color:#808080'>\n",
              "      <th colspan='2'><center>Has_Cancer</center></th></tr>\n",
              "<tr><th style='border:1px solid black;border-bottom-style: double;color:black;background-color:#BBBBBB'>\n",
              "      <center>0</center></th><th style='border:1px solid black;border-bottom-style: double;color:black;background-color:#BBBBBB'>\n",
              "      <center>1</center></th></tr>\n",
              "<tr><td style='color:black;background-color:#89f464;text-align:right;'>0.9200</td><td style='color:black;background-color:#f48964;text-align:right;'>0.0800</td></tr>\n",
              "</table></div></td></tr></table>"
            ]
          },
          "metadata": {}
        },
        {
          "output_type": "display_data",
          "data": {
            "text/plain": [
              "<IPython.core.display.HTML object>"
            ],
            "text/html": [
              "<table style=\"border-style: hidden; border-collapse: collapse;\" width=\"100%\"><tr><td style=\"border-top:hidden;border-bottom:hidden;vertical-align:middle;\"><div align=\"center\" style=\"vertical-align:middle;\"><table style=\"border:1px solid black;\">\n",
              "<tr><th colspan='1'></th>\n",
              "      <th colspan='2' style='border:1px solid black;color:black;background-color:#808080;'><center>Test_Result</center>\n",
              "      </th></tr>\n",
              "<tr><th style='border:1px solid black;color:black;background-color:#808080'><center>Has_Cancer</center></th><th style='border:1px solid black;border-bottom-style: double;color:black;background-color:#BBBBBB'>\n",
              "      <center>0</center></th><th style='border:1px solid black;border-bottom-style: double;color:black;background-color:#BBBBBB'>\n",
              "      <center>1</center></th></tr>\n",
              "<tr><th style='border:1px solid black;color:black;background-color:#BBBBBB'><center>0</center></th><td style='color:black;background-color:#81fc64;text-align:right;'>0.9800</td><td style='color:black;background-color:#fc8164;text-align:right;'>0.0200</td></tr>\n",
              "<tr><th style='border:1px solid black;color:black;background-color:#BBBBBB'><center>1</center></th><td style='color:black;background-color:#f88564;text-align:right;'>0.0500</td><td style='color:black;background-color:#85f864;text-align:right;'>0.9500</td></tr>\n",
              "</table></div></td></tr></table>"
            ]
          },
          "metadata": {}
        }
      ]
    },
    {
      "cell_type": "markdown",
      "source": [
        "Lastly, we're going to make our query *What is the probability for a person to have cancer given that he will take the test and get a positive result?*\n",
        "\n",
        "To perform a query, you need to create a query object using the LazyPropagation method:"
      ],
      "metadata": {
        "id": "DC34N5mYGY3t"
      }
    },
    {
      "cell_type": "code",
      "source": [
        "ie=gum.LazyPropagation(bn)"
      ],
      "metadata": {
        "id": "NWW4m1tmGkDd"
      },
      "execution_count": null,
      "outputs": []
    },
    {
      "cell_type": "markdown",
      "source": [
        "The next step is to set evidence, so we are going to suppose that the person receives a positive result"
      ],
      "metadata": {
        "id": "mJNCw76mG4Lb"
      }
    },
    {
      "cell_type": "code",
      "source": [
        "ie.setEvidence({'Test_Result':1})"
      ],
      "metadata": {
        "id": "LdZim6tfHPVE"
      },
      "execution_count": null,
      "outputs": []
    },
    {
      "cell_type": "markdown",
      "source": [
        "Now, we are going to make our query"
      ],
      "metadata": {
        "id": "k2_zKX9KHqyZ"
      }
    },
    {
      "cell_type": "code",
      "source": [
        "ie.makeInference()\n",
        "ie.posterior('Has_Cancer')"
      ],
      "metadata": {
        "colab": {
          "base_uri": "https://localhost:8080/",
          "height": 85
        },
        "id": "XvVe65-xH52s",
        "outputId": "3be9dab1-cd20-4c3a-adee-a58e0e60369d"
      },
      "execution_count": null,
      "outputs": [
        {
          "output_type": "execute_result",
          "data": {
            "text/plain": [
              "(pyAgrum.Potential<double>@0x5cbaffa94220) \n",
              "  Has_Cancer       |\n",
              "0        |1        |\n",
              "---------|---------|\n",
              " 0.1949  | 0.8051  |"
            ],
            "text/html": [
              "<table style=\"border:1px solid black;\">\n",
              "<tr style='border:1px solid black;color:black;background-color:#808080'>\n",
              "      <th colspan='2'><center>Has_Cancer</center></th></tr>\n",
              "<tr><th style='border:1px solid black;border-bottom-style: double;color:black;background-color:#BBBBBB'>\n",
              "      <center>0</center></th><th style='border:1px solid black;border-bottom-style: double;color:black;background-color:#BBBBBB'>\n",
              "      <center>1</center></th></tr>\n",
              "<tr><td style='color:black;background-color:#e69764;text-align:right;'>0.1949</td><td style='color:black;background-color:#97e664;text-align:right;'>0.8051</td></tr>\n",
              "</table>"
            ]
          },
          "metadata": {},
          "execution_count": 9
        }
      ]
    },
    {
      "cell_type": "markdown",
      "source": [
        "So, even if the accuracy of the test is of a 95%, if you get a positive test result the probability to have cancer is significantly lower (80.51%) and this result matches with the math.stackexchange answer."
      ],
      "metadata": {
        "id": "g1c6qA9xIEis"
      }
    },
    {
      "cell_type": "markdown",
      "source": [
        "## Network design - 5 failure cases\n",
        "\n",
        "\n",
        "\n",
        "Let's use an hipotetical case FOR 5 failure(AB,CG,ABC,BCG,ABCG), where we can suppose that AB and CG failures are related to ABC and BCG failures; and ABC and BCG failures are related to ABCG failure:\n",
        "\n",
        "1. The probability of any failure without any previous failure is 0.01%\n",
        "\n",
        "2. The probability of ABC failure given that there is an AB failure is 10%\n",
        "3. The probability of ABC failure given that there is a CG failure is 15%\n",
        "4. The probability of ABC failure given that there is a CG failure and a AB failure is 35%\n",
        "\n",
        "5. The probability of BCG failure given that there is an AB failure is of 12%\n",
        "6. The probability of BCG failure given that there is an CG failure is of 25%\n",
        "7. The probability of BCG failure given that there is an CG failure and an AB failure is of 43%\n",
        "\n",
        "8. The probability of ABCG failure given that there is an ABC failure is of 45%\n",
        "9. The probability of ABCG failure given that there is an BCG failure is of 49%\n",
        "12. The probability of ABCG failure given that there is an ABC failure and an BCG failure is of 78%\n",
        "\n"
      ],
      "metadata": {
        "id": "tTtdzIdb2XNY"
      }
    },
    {
      "cell_type": "code",
      "source": [
        "bn=gum.fastBN(\"AB->ABC<-CG\")\n",
        "bn.add('BCG',2)\n",
        "bn.add('ABCG',2)\n",
        "bn.addArc('AB','BCG')\n",
        "bn.addArc('CG','BCG')\n",
        "bn.addArc('ABC','ABCG')\n",
        "bn.addArc('BCG','ABCG')"
      ],
      "metadata": {
        "id": "oAGyJ3XZ2nN2"
      },
      "execution_count": null,
      "outputs": []
    },
    {
      "cell_type": "markdown",
      "source": [
        "Add probabilities"
      ],
      "metadata": {
        "id": "tohaSr8U2R31"
      }
    },
    {
      "cell_type": "code",
      "source": [
        "bn.cpt('AB').fillWith([0.0001,0.9999]) # The chances that a there is an AB failure\n",
        "bn.cpt('CG').fillWith([0.0001,0.9999]) # The chances that a there is a CG failure\n",
        "\n",
        "bn.cpt('ABC')[{'AB':0,'CG':0}] = [0.0001,0.9999]\n",
        "bn.cpt('ABC')[{'AB':1,'CG':0}] = [0.1,0.9]\n",
        "bn.cpt('ABC')[{'AB':0,'CG':1}] = [0.15,0.85]\n",
        "bn.cpt('ABC')[{'AB':1,'CG':1}] = [0.35,0.65]\n",
        "\n",
        "bn.cpt('BCG')[{'AB':0,'CG':0}] = [0.0001,0.9999]\n",
        "bn.cpt('BCG')[{'AB':1,'CG':0}] = [0.12,0.88]\n",
        "bn.cpt('BCG')[{'AB':0,'CG':1}] = [0.25,0.75]\n",
        "bn.cpt('BCG')[{'AB':1,'CG':1}] = [0.43,0.57]\n",
        "\n",
        "bn.cpt('ABCG')[{'ABC':0,'BCG':0}] = [0.0001,0.9999]\n",
        "bn.cpt('ABCG')[{'ABC':1,'BCG':0}] = [0.43,0.57]\n",
        "bn.cpt('ABCG')[{'ABC':0,'BCG':1}] = [0.45,0.55]\n",
        "bn.cpt('ABCG')[{'ABC':1,'BCG':1}] = [0.78,0.22]"
      ],
      "metadata": {
        "id": "fdmLwGfv2RSX"
      },
      "execution_count": null,
      "outputs": []
    },
    {
      "cell_type": "markdown",
      "source": [
        "Now, we're going to visualize the buses probabilities"
      ],
      "metadata": {
        "id": "GT7v0HMD6G1k"
      }
    },
    {
      "cell_type": "code",
      "source": [
        "gnb.sideBySide(bn.cpt('AB'))\n",
        "gnb.sideBySide(bn.cpt('CG'))\n",
        "gnb.sideBySide(bn.cpt('ABC'))\n",
        "gnb.sideBySide(bn.cpt('BCG'))\n",
        "gnb.sideBySide(bn.cpt('ABCG'))"
      ],
      "metadata": {
        "colab": {
          "base_uri": "https://localhost:8080/",
          "height": 581
        },
        "id": "0Df8o6CQ6GGB",
        "outputId": "42b7e4f7-dda4-48b2-c5e7-053141b16542"
      },
      "execution_count": null,
      "outputs": [
        {
          "output_type": "display_data",
          "data": {
            "text/plain": [
              "<IPython.core.display.HTML object>"
            ],
            "text/html": [
              "<table style=\"border-style: hidden; border-collapse: collapse;\" width=\"100%\"><tr><td style=\"border-top:hidden;border-bottom:hidden;vertical-align:middle;\"><div align=\"center\" style=\"vertical-align:middle;\"><table style=\"border:1px solid black;\">\n",
              "<tr style='border:1px solid black;color:black;background-color:#808080'>\n",
              "      <th colspan='2'><center>AB</center></th></tr>\n",
              "<tr><th style='border:1px solid black;border-bottom-style: double;color:black;background-color:#BBBBBB'>\n",
              "      <center>0</center></th><th style='border:1px solid black;border-bottom-style: double;color:black;background-color:#BBBBBB'>\n",
              "      <center>1</center></th></tr>\n",
              "<tr><td style='color:black;background-color:#fe7f64;text-align:right;'>0.0001</td><td style='color:black;background-color:#7ffe64;text-align:right;'>0.9999</td></tr>\n",
              "</table></div></td></tr></table>"
            ]
          },
          "metadata": {}
        },
        {
          "output_type": "display_data",
          "data": {
            "text/plain": [
              "<IPython.core.display.HTML object>"
            ],
            "text/html": [
              "<table style=\"border-style: hidden; border-collapse: collapse;\" width=\"100%\"><tr><td style=\"border-top:hidden;border-bottom:hidden;vertical-align:middle;\"><div align=\"center\" style=\"vertical-align:middle;\"><table style=\"border:1px solid black;\">\n",
              "<tr style='border:1px solid black;color:black;background-color:#808080'>\n",
              "      <th colspan='2'><center>CG</center></th></tr>\n",
              "<tr><th style='border:1px solid black;border-bottom-style: double;color:black;background-color:#BBBBBB'>\n",
              "      <center>0</center></th><th style='border:1px solid black;border-bottom-style: double;color:black;background-color:#BBBBBB'>\n",
              "      <center>1</center></th></tr>\n",
              "<tr><td style='color:black;background-color:#fe7f64;text-align:right;'>0.0001</td><td style='color:black;background-color:#7ffe64;text-align:right;'>0.9999</td></tr>\n",
              "</table></div></td></tr></table>"
            ]
          },
          "metadata": {}
        },
        {
          "output_type": "display_data",
          "data": {
            "text/plain": [
              "<IPython.core.display.HTML object>"
            ],
            "text/html": [
              "<table style=\"border-style: hidden; border-collapse: collapse;\" width=\"100%\"><tr><td style=\"border-top:hidden;border-bottom:hidden;vertical-align:middle;\"><div align=\"center\" style=\"vertical-align:middle;\"><table style=\"border:1px solid black;\">\n",
              "<tr><th colspan='2'></th>\n",
              "      <th colspan='2' style='border:1px solid black;color:black;background-color:#808080;'><center>ABC</center>\n",
              "      </th></tr>\n",
              "<tr><th style='border:1px solid black;color:black;background-color:#808080'><center>CG</center></th><th style='border:1px solid black;color:black;background-color:#808080'><center>AB</center></th><th style='border:1px solid black;border-bottom-style: double;color:black;background-color:#BBBBBB'>\n",
              "      <center>0</center></th><th style='border:1px solid black;border-bottom-style: double;color:black;background-color:#BBBBBB'>\n",
              "      <center>1</center></th></tr>\n",
              "<tr><th style='border:1px solid black;color:black;background-color:#BBBBBB;' rowspan = '2'>\n",
              "            <center>0</center></th><th style='border:1px solid black;color:black;background-color:#BBBBBB'><center>0</center></th><td style='color:black;background-color:#fe7f64;text-align:right;'>0.0001</td><td style='color:black;background-color:#7ffe64;text-align:right;'>0.9999</td></tr>\n",
              "<tr><th style='border:1px solid black;color:black;background-color:#BBBBBB'><center>1</center></th><td style='color:black;background-color:#f28b64;text-align:right;'>0.1000</td><td style='color:black;background-color:#8bf264;text-align:right;'>0.9000</td></tr>\n",
              "<tr><th style='border:1px solid black;color:black;background-color:#BBBBBB;' rowspan = '2'>\n",
              "            <center>1</center></th><th style='border:1px solid black;color:black;background-color:#BBBBBB'><center>0</center></th><td style='color:black;background-color:#eb9264;text-align:right;'>0.1500</td><td style='color:black;background-color:#92eb64;text-align:right;'>0.8500</td></tr>\n",
              "<tr><th style='border:1px solid black;color:black;background-color:#BBBBBB'><center>1</center></th><td style='color:black;background-color:#d2ab64;text-align:right;'>0.3500</td><td style='color:black;background-color:#abd264;text-align:right;'>0.6500</td></tr>\n",
              "</table></div></td></tr></table>"
            ]
          },
          "metadata": {}
        },
        {
          "output_type": "display_data",
          "data": {
            "text/plain": [
              "<IPython.core.display.HTML object>"
            ],
            "text/html": [
              "<table style=\"border-style: hidden; border-collapse: collapse;\" width=\"100%\"><tr><td style=\"border-top:hidden;border-bottom:hidden;vertical-align:middle;\"><div align=\"center\" style=\"vertical-align:middle;\"><table style=\"border:1px solid black;\">\n",
              "<tr><th colspan='2'></th>\n",
              "      <th colspan='2' style='border:1px solid black;color:black;background-color:#808080;'><center>BCG</center>\n",
              "      </th></tr>\n",
              "<tr><th style='border:1px solid black;color:black;background-color:#808080'><center>CG</center></th><th style='border:1px solid black;color:black;background-color:#808080'><center>AB</center></th><th style='border:1px solid black;border-bottom-style: double;color:black;background-color:#BBBBBB'>\n",
              "      <center>0</center></th><th style='border:1px solid black;border-bottom-style: double;color:black;background-color:#BBBBBB'>\n",
              "      <center>1</center></th></tr>\n",
              "<tr><th style='border:1px solid black;color:black;background-color:#BBBBBB;' rowspan = '2'>\n",
              "            <center>0</center></th><th style='border:1px solid black;color:black;background-color:#BBBBBB'><center>0</center></th><td style='color:black;background-color:#fe7f64;text-align:right;'>0.0001</td><td style='color:black;background-color:#7ffe64;text-align:right;'>0.9999</td></tr>\n",
              "<tr><th style='border:1px solid black;color:black;background-color:#BBBBBB'><center>1</center></th><td style='color:black;background-color:#ef8e64;text-align:right;'>0.1200</td><td style='color:black;background-color:#8eef64;text-align:right;'>0.8800</td></tr>\n",
              "<tr><th style='border:1px solid black;color:black;background-color:#BBBBBB;' rowspan = '2'>\n",
              "            <center>1</center></th><th style='border:1px solid black;color:black;background-color:#BBBBBB'><center>0</center></th><td style='color:black;background-color:#df9f64;text-align:right;'>0.2500</td><td style='color:black;background-color:#9fdf64;text-align:right;'>0.7500</td></tr>\n",
              "<tr><th style='border:1px solid black;color:black;background-color:#BBBBBB'><center>1</center></th><td style='color:black;background-color:#c7b664;text-align:right;'>0.4300</td><td style='color:black;background-color:#b6c764;text-align:right;'>0.5700</td></tr>\n",
              "</table></div></td></tr></table>"
            ]
          },
          "metadata": {}
        },
        {
          "output_type": "display_data",
          "data": {
            "text/plain": [
              "<IPython.core.display.HTML object>"
            ],
            "text/html": [
              "<table style=\"border-style: hidden; border-collapse: collapse;\" width=\"100%\"><tr><td style=\"border-top:hidden;border-bottom:hidden;vertical-align:middle;\"><div align=\"center\" style=\"vertical-align:middle;\"><table style=\"border:1px solid black;\">\n",
              "<tr><th colspan='2'></th>\n",
              "      <th colspan='2' style='border:1px solid black;color:black;background-color:#808080;'><center>ABCG</center>\n",
              "      </th></tr>\n",
              "<tr><th style='border:1px solid black;color:black;background-color:#808080'><center>BCG</center></th><th style='border:1px solid black;color:black;background-color:#808080'><center>ABC</center></th><th style='border:1px solid black;border-bottom-style: double;color:black;background-color:#BBBBBB'>\n",
              "      <center>0</center></th><th style='border:1px solid black;border-bottom-style: double;color:black;background-color:#BBBBBB'>\n",
              "      <center>1</center></th></tr>\n",
              "<tr><th style='border:1px solid black;color:black;background-color:#BBBBBB;' rowspan = '2'>\n",
              "            <center>0</center></th><th style='border:1px solid black;color:black;background-color:#BBBBBB'><center>0</center></th><td style='color:black;background-color:#fe7f64;text-align:right;'>0.0001</td><td style='color:black;background-color:#7ffe64;text-align:right;'>0.9999</td></tr>\n",
              "<tr><th style='border:1px solid black;color:black;background-color:#BBBBBB'><center>1</center></th><td style='color:black;background-color:#c7b664;text-align:right;'>0.4300</td><td style='color:black;background-color:#b6c764;text-align:right;'>0.5700</td></tr>\n",
              "<tr><th style='border:1px solid black;color:black;background-color:#BBBBBB;' rowspan = '2'>\n",
              "            <center>1</center></th><th style='border:1px solid black;color:black;background-color:#BBBBBB'><center>0</center></th><td style='color:black;background-color:#c5b864;text-align:right;'>0.4500</td><td style='color:black;background-color:#b8c564;text-align:right;'>0.5500</td></tr>\n",
              "<tr><th style='border:1px solid black;color:black;background-color:#BBBBBB'><center>1</center></th><td style='color:black;background-color:#9be264;text-align:right;'>0.7800</td><td style='color:black;background-color:#e29b64;text-align:right;'>0.2200</td></tr>\n",
              "</table></div></td></tr></table>"
            ]
          },
          "metadata": {}
        }
      ]
    },
    {
      "cell_type": "markdown",
      "source": [
        "## Integration with Simulation Data and Machine Learning Algorithms\n",
        "\n",
        "Simulation Data can give us information about the joint failure probabilities. This data can be easily integrated into a Bayesian Network, to determine the probability of a failure given the identification of another failure.\n",
        "\n",
        "The results can be compared with classical machine learning algorithms. But what is more interesting is to use the results of the confusion matrices of the algorithms.\n",
        "\n",
        "![image.png](data:image/png;base64,iVBORw0KGgoAAAANSUhEUgAAAmcAAACpCAYAAABuz5r8AAAAAXNSR0IArs4c6QAAAARnQU1BAACxjwv8YQUAAAAJcEhZcwAAFiUAABYlAUlSJPAAAFp4SURBVHhe7b0PfBRXduf7a3DYnSQzs3khMyISDL0hk7ALJmgmQtJaHtOR95PnvM97Qh3AiBEeZ8LL+zw/+Ex4JB+MZBSBhElW0cdr4s3LOo5ttBI2pIU+m4mzibXCA14JmDdiDLyQzTBpBtCg8bDzzx6PRwb1O+feW9VV1VX9R1I3quZ8+dQH1elb1VX3njr33HNu9Y2kCAiCIAiCIAjzggXmf0EQBEEQBGEeIM6ZIAiCIAjCPEKcM0EQBEEQhHmEOGeCIAiCIAjzCHHOBEEQBEEQ5hHinAmCIAiCIMwjAn9K42vJr+HTf/JprP7IaiMRBH/+B/1L0b/F9E8oDVfp33L6J5SGm/Tvp+jfR+ifUHym6N+36N9S+ieUhuv07+P0bxH9E4rP9e9dx48++BHe/pO3jcRNoHP26n99FVve2IJ/c9+/MRJB8Ocb9O8OfoxoqspIhGLyAW7jy5GLqE+tNRKh2Pz3SBIfTX0YFTIAKQk/wLv4euQa1qb+lZEIxearkcvKhn8UHzYSoZhcefcafjD9Lt7r/ZGRuAl0zr506UuI9cdw5+k7RiII/uw7uQ/ff/8qehp/z0iEYvL2D7+D6OFG/HDPuJEIxablxO/hoU/U4H+v3mgkQjF58/o4/q//cgBf3X7CSIRi8+k/34g/fvj38ZlP/KqRCMXk//iPf4DXr57DtX933UjcyJwzQRAEQRCEeYQ4Z4IgCIIgCPMIcc4EQRAEQRDmEeKcCYIgCIIgzCNm7JxNHo0jEokgfnTSSDRjByIkj2PghhHkZAzdWctPYmBTBN1nzK4glJRbeGXL/VjU/ZbZZ4xskXPbhVcmzMfMxGvY5Ph806u3zAeGs887jqVty2uk6YJC1Y2nPr31xZurTYAz3c7Pn4eYjDwxuvr0WbOvyEPHhYJx66jeXPUudqMoZLcNmbrufhbuDrOLnG1sBk6MOJRjDCP7zJ+CUA5MnMMgdqDz0rmMzr6pbwRTUxfUdq0P2PaScRbYgEaH0ZzUn01NjaB5KJY2tPx5w2UcsT+/gFOr9mCZx9m4VzkzfBidHSsx+KanY6J2OGXqa2qqD52dLxtnQRvXB9Fn1+fUaeBBcdDyYvLNYaBjB84PZ+pfoI4LM6fDqac70PGMcbDEbhSBXLaBP49h2yrH58lDON9w9wcis3POVscRR5L+Gc6MoH1/F7rMLmNF2NxRNh0NU/IDI0bGcBTNyAuKvgnzmqDRoFNujwCdoxjzgKjRovNhMiMblm95Hk9zeTZQBXwPj6Tcn/t35KrjatqAx5suo9cqnwN2Lpr69uLRSiPAYjzaM4JdD/DfdP3PkPNxutfxOVD7uUNoujThGOjMBmcdpu/Zt24ZVb9Grgy9LufqFNQ5TN13c3l9fNCI1ClPt5X7OvxHp2/hZOcOrG+rwdrWE/k5V+xAJ8hxa1tjBMS67biWrMHyUhlYZx1a9+yVW52on96rcnOp4546dtW/k1t4Ywho/twGNF+ynN0woO/Pqgevbml5Wscz9JH07Gn7b3rOX91l2oflu0jHaV+1RwHf46pjT/3nwd23Gzlw6jJt1r1l1i3ho+Oqju360fXM9abrnnScyip9Dvgel9x+Ftw2x34eLHLZhrMnsA2HcM35eeUj2NUxjORd9j9mOecsiujqdoyY2hl7vR1dD8f0DnOmG0taqjGaSiGVGkV1yxKVnpw8+gS2oh83Wf4w0K4Ks8NWTyfhsrSNVWPrroHSKJ1QVCZvVOJZe9SyA0ND56hdydjs3gOYkTmPAHfSgzX56kH9sKiyK7Ftt/UwB5C4jGgPlaWHq5DvqW2kz69oy80O2FBHDWrVnhPuuFZi1+bFqHigEVDnSzPUGrONxbKhRvOAs3MBrF3u+bHSysWopY2sBZKJRkS9v9dLBuHY0UdQYXZnxcQElnOdqLroQ2diGG8oI+hXt2QkG9joc9kRHLnUmrND6UANleVOggxko/U9dGz8ME7ysWREHyQHS0W51CiUDOi6GrqOCVzlExiDuX4d73g4ew7n+zZQW6zB+g5zPpvDNOK1jHYrYDoq1X7xyoz1Eioq19BmdorMGVUnui6u9TWiQ0Wh/OrWXx+zMiMdBx5qasT5q/rcquNvqsnUL26LVY9RPS6m8siIVvrr+DygEB3300dzGn+GcX7FXjrvdtQW8j356nhnq12nixqAU+q5nwd2Iwe+Ou5btzPQcbr39VT2GNnavJ+lGzVojl/GVWXGuf4a0fyAu/5y2YbJq5eBVZUZ9VfbdgFP+rVdCZn1CwF1D3eh/fUx+otTml2IOXq4yeQ4sD+GOrVXh9h+YDx5ASMnBtG8IaYrpDZmIm1JJI+To1ZnImd15LIdT2BEomehp2IdPQjWSIoeMI02NtbDxA8DP5hXrwynOxEa4UzlNDwrsdx0wIV8D9iQdupUJX9nZ6NPp6M6LuO0VZIhIKPNhtnClfJpGsYyNSqsRDRuCuSDc4TpGOnPCjI8tZVkINXIvpWcKY1v3VLncx5WJ0Ij9aO5jVLTCsvjoe+hsnrkHMO2hJYqg2c5u9x5cCfndLZuTAQ4w+xEXE63FTnQ2jBbmE5AbX1Agx5VVyxfaT6/e9SS7lkj+2Wtw1roW7cB+piVmel4ekBxC1cvZXZcDHdea43u+w1A/HV8HlCAjsNXH7NjO0mFPEt56rg7rWml2OaB3ciBn477P+sz0HGHA5X/s+QYUPDn8UY85BmMFWobnFFAO9J9l5i1c6acq30jGFMpTcsRmynN6L9uImdqS6BFVgQKPUrhoxPYpYzRDiOdewr7HsuQmjSaj0Ny5qU9GLJHuex8DPvMg9Jwx9akRs2LsXwV7IiFjTKmlhF2hMyVQWNDTaNyI5o1yrDFkPzCHJ/Xi+kgeldwB86RMyMPwHK21JwyX2f4NfR2DmNb1BhHdj6MA50Jt5+p56pKU/dufNMcRcF03s9UqkgKj/aLRUE6bg0oztIgA5kdF0cbXqTOr4OcXFXfUdJ3ExnyI63j84BS6XiB35NTx73wIBEc/ZkHdiMrpdLxwr7HGlCcUdNPfCLDOWyDct4caWF2JNVApIjPcL7M3jlTEbF29PSOo3lF1Mg0FdFqgB03tadfFqgmwxvb0IxB60UCdurU51FENw5i64u6NNUeIpFuc6wQdppUqoqalYyWRhsby9lRnQ6NVJavaDSpGkIZRjJM/IApA0YylS7gD/3J93sYnq+BZ15Gh+8IV4fJnZNvOWyPgHlQzvC5Spm2HnSMZsngqDA/XxuN+r5ABtw74ZQ6UGtUPifED+Fxdjgd5/Wt28pKrIWVPtSGcdOrVJY6Civtm65LP3aotK+zXZTBs5wq1bmYe123AUfwMjlg/s6wTi87ogq0nSIH2n+unyMNxE5I/DAedI506f443aKurUR0foGjJ5wKN6N937r9kL8+FkXHWddWYvCZgI6LdYP0RKXmzJZt0n9QiuiukaeOX/XVR64zyxlytJkf+T5L/HcOHc9AnVNHRueF3ciBV8f9n3V/fVRlLUcpx3Xn9yzR+clJ3bVqGL08b9InMpzTNqj28r5UkUMfSsQcOGc6tTl4nHS4wfP417bh5sA46tUE/3qMD9xEG1mVii3PoR9bsYTlr8OkNSvQcmwUXfvqTVpzHP3X22YZiRPmA9ro6LkrJ1ccsiNMjx7tw1ojV/MW2tagYnOvmqOwzEROOk9vR616wExEZfcE1gZEaAr5HgWdN4qAlCYbD2+Y3Dzo2kB45uO0Akd62KAQnObgeShWBIhG3oNNI+nQPn+ebMSg/Tlt6i0s92TfGaPmvpg6HK7EEao7HnH71i3W4Ek1V4SvI6bm0TxL18l1ac2NOUkOmC+W4ePz7SbjSNZWdXZ0f9f6Lmt5lDsXa5LzYjy0gurN1xnWBtHbFqpNrU7QM+esgxw5nYLlNtbzUNL1CZzKI301N3B6pdFEoA6SI0T1pUbjfnX7SX99LJaOky6sJUfPr+Ni5847D01FxxzRykAdv9sUouO++qjbTN/fQSRXBURKCnqWmGw6bnDNOXMce7ftRlYCdDygbn31UUUJzTNMvo9/xK+QZ0nXS23jSgz5RoaZXLaBP6dBIByf8/n57U3rGbpLyMLnwqwJ7cLnPNJTKaJSdeJzQ3gXPucRr04R3e3JtoUS2oXPOarDKaISTRqfK8K78Hl4dTysC59zZI6nVuSeuzm/kIXPBcEP7rTUSE+niIRiw6/O6xGvShEJRUf9RAFHZlSKSCg+ouOlRac3OTJXyukLpUKcM+HehFMEU/m8KSfMDWvwJM9rClkEJ8xw6o11PGwRnPAiOl5adEpS/eSJkZQT4pwJgiAIgiDMI7LOOVt/dD3++vG/NhJB8KfvrT68N/U2fjtoFrMwp3z//Xfwub/aixMbs71FKcwlfzj657j/47+E//kXGoxEKCb/37ev4D985Sie+/WnjEQoNjv/9iC2r/1NrP7YJ41EKCaH/6Yfb01+DZN/+C0jcRPonB3/8nFs+uImrFsqMXEhOzd+cAN3pn+MZR9dYiRCMflg+ja++q1/wK8uWWUkQrG58t1r+Miin8bHfup/MhKhmLwz9UNc/d43yVH4RSMRis2lb38Nyz7y8/jIP/spIxGKSfLtCfzoRz/GO13vGokbeVtTmDWhfVszpIT3bc3wEtq3NUNKeN/WDC9hfVszrMjbmoIgCIIgCCFCnDNBEARBEIR5hDhngiAIgiAI8whxzgRBEARBEOYRM3fO5mhh8smjcUQOBJ9l7EAE8aO8st4YuiNxDFir8mfjxgDiaj1P99ZtLRh3l8l1z+WH/iVnvW6ZWSDYi1o82CpjFrV14lxAm3GW3/KaXntRlUmfQ2/m+1yfZV6D+jV16zxlgLofc79Pm7VAM3DWoWvhX4Z/7dyzyLLBuXi8+ts6h9lcbcff4azXHO0QXri+zH0F6ZGfziqcz0e6zp1166pTZx06zlNo+bCTl44bnDrraitfHdefp89ZYPl7WcfnSDcDy2e1Wd52Djd3PXJWsSWB1FNBy5tPInnR/Ik6tKUSaKkyuzlpRv/1FPhlVN5uDjSjvXdgXhim7Pdcfky+elAvJDt1Aac6DqPX+bAZJq9eBjp0mcxf7qfOa/ceDJk9ZSTUgsG67LWmYSzjB7LyERwzx+vvgllUWB+PvhEjP4wHnQ8wGYidrcNmpwxQ97MSp7geTu9AxzM+hpSNoloAmOuKFwZ+Od3pKIPZCqq+TMg4PuhYsbi2LV3fU8lDaIqnFyS2lg9K426HqdPAg2XiLJzpbsV5dV9Ul9iDFzOcBdZZXqTa1DeV2WmegzPdeoFrXScrse0l0k2u50uHcM3UK1oPmvah80SH0azOQ7q8ynxXoeXDTj46buHRWW4rXjSf6+NaH7Btt/tY9bn5mymsfA5bE2Ly0vG50M2g8tlsFuNp57BTFOdMRYZMtEpHvZQUA5tMFOtAtx0FS0eRODLmjnJNHn0CW48Dgy1PUFln5MxxrjyjaRUNcTQfTyJp9jkiZ31XftfI+6asKzKXjh46z2lFxpx1EdmknUN35Mx539a59L12H7COzTNiOC+5hTeGhtG0olLt1TbuwNDQOZdxY65eSZfxws7dYNMh2M/dxATOYwfWm5/gq1i+Erg04T6necD1GneLsdzzk2Dp72JjSgaib4fZDz+Tbw5jKF6J5byzrgadiWG84TRiBJdJryvKy6D04lFVJWQwdwPPsqOlPnNCn5FxPNLXaPad6E5prbWOI9X/TuylzsxZdgLJRCOaHzCOd1UlmhITuKr3QsxbOEnKuXY539diPNTUiI5hb4fMS/tYdazR5flYx9qAvKxY2xr9v2sZoJVYzseePUeOwmP2edg5VsszFVo+5OSj45pMnV2+wqO/qyrT9cZ2A4dwxPF72oWVz2ZrwkweOj5XuhlQPthmMdlsUziZe+fsTDeWtFRjVEWsRlHdsiTtaKEfN1n+MNBuiltMHu1B+/5RHeka61JRLmx5Dv0bgeaB51wRM9e5xqqxdVfuiNjk6QQGN0YR5b/JOaqH+S51jez85bjGfUCM5IktSXQvTSBuonI3B8ZRz44WOWw9+7rs++7a10PnHMMLLTARvJt05q14wRXjZmewHuMDN9PnMg4cuaQYX/Gcko/uH8TWFy1nLpzoh9qQ0SHrB3+oNWZC1o5UAI+Qhxrx7Gb7KQQqK7EWh3HSjNxU1M11TnIUnrmMIz3pB5wf/F1X9PlPNqYjc9rx24tHlZUvI5wdCIaR9HPur5xIpxTs0T05EQFrA/LIGae34yGz7+LsCRUdtTt+MrCZ65ZWIhofxuCbJnJ6YwJDuIyrvp1q2GhE1BnV9w4WLKgzX+SzOPZJO43jTpupNE3GAv3nAtNLhZYPNXnouJ/O8pqj11a8rOqDBxDKGVboDv5UW43Z1xRaPsjWhJ98dHzudNO3vK/N8m/nsDPnztlkchzYH4NO2tUhth8YT17AyIlBNG+I6YepNoYu9XkaFdnaV68iRd1oQ+pYi28HwSSvOM8VVJYcmqVWRCpCDiM5Sb26HB8P812RSD05YYNInM5xjcaxw40kxh3nXtLC5xrBWFUM8Y3tqOdzHoBJwfL9m7KbRhA7lkJbWiuJJJLHmxFv0Ffvje5VR7U8uqJZ/V++mAWDzXat77JJd5molsPJ0lB5TmU06Id055WV7ijPxDlqoUY85BxVUTk2lHz+9cPmwbYdv3IxnvnDkcqhS5V4VtV5Hzo7W7PP21ERAofz5eHM8GF0NlqdVhA02u3hNIVxwmkgXEZZiPzgqADrOKfiWcdVFPgw9XuW7rvTZtzRcwqneSim5t6ogQhV2nrVbu70KFNo+bLGV2fJpmwxThbVybM4aDsFVgfvMtEFlw+wNfcAc62b3vKBNiuHbQord33OmU1VCxIcdeKoWR07PrN92SA954znm2FjHDGH199solXWltjyMfNJPlgRMmtrIze0Ai3kfOmomXEyz5B7+hTLdNRsCcnSKdR7i/NXHR2ClY4IQKUpORLGTlZiGNui7ITxvA7+20QWTCfH27FGpFMchAp/N9WkHTpPGpRTq+g8h9c4NZLYg2XsKPDcKP7bM3oLLa5RrWfES6hUjR154IiWp408sPMFMobsVC3j+Xn8t93p6NScVb9Zcc4L/FwltYtJcYQeT+TGFdXJxNZxFQVOt48t17sGnSobujKhP7d1PS13U2j5kJJDx/119kuu1HrFA41oUilRHb3XA74YtiX030+fdafic5b/or+tcSVMQkt2HS+ObqblQTYru20KL3PunFVEq3UkSe2NYWQfR4DuR2xDMwZPjOiH6cyIT1ozrh0XjoRd7yfXKhiOJKXPlfutUZ6AP7qanCMzz0sd3/KCfY0856v7TEXOa1RURVFNn/QYJ0vNH+NUJM9DUylJfnGBnDG1ygufm69NO26j+9UhDqKIbuSonTmXI/VaPuj5CdZDxw9Sk9NxUvBoM53KVA9bRw1qXRP8aaREBvhIkucZcHkr/cMpTOc5eY4bOd/WvCbGLw1KRqF6c6/t4PGkYsQP4VpASi9M6A7EdPA8ryPujCJqVBm70+AOyJN69qBHsXpT88h4grSV3lFzR6i99F4WdBTCitCdeWkPhvI6br6zBus7LOdWz7HMjCIG6Lg6Np3qtXRzOac/Xc4v9Tl8Ttf8qlu4esnMaSq0fMjJR8f9dfYzPql1HiA4o/cjag4Zv3D05Dq/VHyW8v+Lv62xBo7hJQ8dnyvdDCgfZLOy2qYQM0vnzKTxrI2dH3Ku1NwpJdPzqTiVV8Hzx0z0KPI6x57c8OfxE0v0eZZuRfWYjkZFV1svBJiChO1scdm6dnSpstmpe8pEtOga1fH7rWvP/xo15HyR84gWfa1qfh2nVata8NyGhD42sgRbV4/SOaksVYlVR/UX+/HcFtdYg5w2PS/PdS7zablQsXkvjlzSIxuepO98m0+/Js1pSuBBjmBxmc4dOJX14eLyK01EjUatq/oc8zr4ofVGY6h88hDOmzToMn7LqwycsEDIqX2WU8Ncn/yGoJUW5redrMigs8wi/RbWTNMC3AHl1+HrtKbVDuqNrDIwokxtWx/WqnSt1kerLnnejHZGPTruuPf0sQ7dXLcdp6CfGXf7BOh+oeXDTj467gtPJE/Xtzo26U1NOim0fPnaGn8ddw465kg3g8rPoc0KA3dn4XOOdpE3NarSgfOUMFzjPEEWPi8tsvB56ZGFz0uLLHxeemTh89IybxY+d/2kRJ7RrlIThmsUBEEQBKG8KZlzpn541TGJ3v3W4vwgDNcoCIIgCEJ5M3/e1hQEQRAEQRByzzn74YEfGokg+LP/S/vxg/e/gadjv2skQjH59nvfwS//h9/A/9id7R1lYS557D8/ic8s+1X81q+U+28Ozg9Gb3wVv/t3T+Psb71qJEKxqX+pBX8Y24WGZZ82EqGY7HihCyPf+ErgnLNA56z/TD8++7efNXuCIAiCIAjCXPGh2x/CewfeM3tuckbO3tn/jpEIgj8HTh3AD96/hoPrv2AkQjH59nvfxb/609/At//vUSMRis3j/3kvHlz2aTwukbOSMMaRs9cP4czjrxiJUGweeHkrnl7PkbNPGYlQTHb+RTdOziRyVtSf0hDKCvkpjdIiP6VReuSnNEqL/JRG6ZGf0igt8+anNARBEARBEITciHMmCIIgCIIwjxDnTBAEQRAEYR4xc+dMLThufk3f2szC4oWifpk/8NhJDGzihcnN7ozQi5tnXC9tszuvkB+3cN+W+/ETi3h7HguN1MXEa+bzgDLq8124Ty2Sa+3PvvzCbkvGm6N8yFnw6i77vu4zizB7cd27WuPUjfrcXoC40PJv4T6rbGA7OMuHHcf9bnnN37AG6Ww+uplR3/qZymxbt9ypB/ZWJnU+cx0PsEd5tQ9tVv2dfd4h97Ed6rjysSn56LhL3zL0LFNng3Tc/zzOduPNaiO3PEgXwsYsI2ddGE1Zv6h/E/0X9cLihaJ+mf+poIWSeHHw2f5afx3arOsc6wI29uOm2ZdVAIrPglcPIrKqDx9MXcB0x2Ha9+lodu8B+kbSZVwPtvncZq7K30LkEpA6fUHJP5jqxe181u+e71CnsLB1Jab5nk7vQOQZH0NKHcuCzh26TPIQ0HrQ3Ymoz83fTIHlF3a3ItKh2/xOHxDZba7hBh0UP4Q7qr5pK5OFz9X9Kv0aQQp7sMDPaQrQQV851+clU08Z9c2dZAyRhNm1yZRPb+7V9ay2Pro2asNyqPNZ6Li/PXK3wwenqZzlgPjqLNV1w2WkklqmdDzqcOis85UROXVctQnZU1UnpGudrQ5HyUdng3Q88Dz0YaLRrvMPpraDX1d0tqfShQZnO4SXWTpnTsiJ6u1H874RaPfMGa2KY+CGEpKiDyBuyTcNYJJEzsjZ2AHrGNqUzBM5c0bszDH6+O709xXkIPJ1xtF9gNfV7FbX7lpj03Eu57XFj/KVC7m5hQVDw8AK7fXcadwBDJ3zKN5ipFaZPy1MeUY9fE2HyCBYzFV5/bCjSovKhQVvUn3HK/X9r6tBKjGMBWz0nFR5vdCVSNki7njIOPZR3VgUWD61wnEss6oS0/TfgquX7b/Lh7cQIcc0tXwx/b0Y002NiAw7BwtMkA4GyNdtxwdHH3HUk1Xf1OlvOYeUcrScBMnT6M51g+rQws7MdTzIHpmO/wFuQ4KPTUwgQn/66+wa3HYM5qYfcOt7pg0KO3noeKVpDxvLtgboZpCOB51ngtvDaXc0agDiHHBYehFy5tA5I6qiqMY4kjfYoaonb8aKVlVj6y52xEi+ayswcFPJR1dvxRNOJ4cct559VjRuFF37etJOHcOOXd04+q/z5zpSZztJ+4AYH3edHUTPcTkZxPiK5+icbagj52/JibiJrOnvYMeQHbZ6jKrr5murbnmiwO+4t9EPtcEYPSd32mgUeyWmwtKRRhoBbTbleRQ11Ig7m91P5JyUP3uOrmOYRrwmJO6KvoUcV2dCnZFXVysfodFqJRbwfe+m+jGjUIY7cZze7u6MCizPBvPOipdVvS7EXmM8TcdII2FV32WV8rE6IsOliQzjGqSzgbpMqLRPlCM6llO1GLePpus+TZDcQM+FilI4zh16ZqHjmfaI7EWcbMGbJqrP0TJcRmQiP51VzmJHjT5/gA0KP7l0nB3WxwBlT9kZs5zX7LqZqeP+51F1jMO6PXlzZWDYASRZw2GkvuB0+MLL3DpnNkkkjwPtdSbSVNcOHE9g5AbLmxFvqFCl6p5KIbFF/62oiiG+sR31KmIFtKUSaHEqAx0/uDGOmJJVILahGYNXkuojbIwiyv8rB7FwqqP6OiaT43StW7FERciWYCvfx+tjSF4ZJAew3kTO6tFODl3itETP5gYOeZuOaeoCUsP0kNkpn2GkerwP2xyV55GbCo/zNoLUJTLAGSnX8kTN6VAdFt17DxlIq9PhVAP6cHudLmdRWHltKJVTRuXv4KCZo8JG2qpv2k6v9KSCypkgnQ2Sa9hxU7o5RM7bLHRTdWxNNWXRaeVLoM76QrrZw6k17ST/BFWXjr7kobP0DChnzAxA/G3QPQDVg3amuK5qEKF6zGf+V4aOB5wnI0VPbZU+v9VOfUBDecw7m1vnjJyncXKNosp5ajYRLmvzOFq+VKj5ZTpqph2huzJhf78VITObmQ/XbCJ+1uZyLIWsRK46OhZv2FmFq3cgZTp4lWroPIeFE+cQSViRrVYT5SID+5U5Kq93DSa9dCXQeocL16jWM+IlIlccnXVlDVImarBw+LAdJVjYSmX4b3IWCiv/JVeKSKV8AtNOHJ3Qu+GG7t0ZufGmwQJ1vBS6ydEfcjaslF25MCMd/47+zM8ecaTN6vw/V0ntkplC8+qscgCHa9LpuSAbdA/ouEr/WtFDrEGqg+o5I70fRFrH8zsPtUPc046KIHn4mEPnTKcsB/fHUIcoohsHsfVFM19LzRPj+VxabkWc1Bwu5/wwTluqeWg8gf8m+r0/xl0VRbOKwPHOJEZODKJ5hYqXzRkV0WrATovq+W6cOo2uaMZgywuu+XTypmc+6PkJVseiOnPvCF7NMTiMiBntqIeTDabTWKr5CjwZtBe3PzVH5XmEZkcpzJyKxvBPltbOEHf6BKdu442Y9nQyak6YPfeP2iahUz16FKu3OzyHjCf1t5GBLKj8Z6h+tfOmUCkiPd/nvi3pjkrPG8q8tvBhOhDVIeg0WIYeBep4CXSTHQZ6FsJfz2lmruOfDLBHOtprRVwWvrTHOAjBOsuOWTplbwiyQfeAjk8vX+kYWOiXrZxzgTMI0PGg8yhH2IoeKydYDwCD5GFnls6ZSUFaKcDVoybKxBGwUTv6FVHzxNrI5dLy6pYlSl7P88ucb2lWteC5DYl0SpHO53qbkj5P8Py1penP5zx6VduGmwPI+A5+o3R0v3W/9RgfuClveubJ9Oa9OmW46H7XvJf0Q7UGt5OHEGng0SZHYFZi2jVR1MsclV/H86T0dalRLjkW3nReKKEO4k7fZT03g98os1IsE6/Zr8BzimB61R4stO69byTrvRdWnlMMOu2g6la91cZzTjh11GiiCtwOZIzLJP1zp82635h6c8yqG55Pozv8IJ3NUzdztE9W2DnOmNAecmah4/72SKc1rXZQcuV0BegszyvjSLGl42or7xS9v45zWt7cN+ms3SamjHP+ZAZBOh5wHtVunPpkuZqjtlc5vV556nQ5OMPkCKc4P+eDrK0p5IusrVlaZG3N0iNra5YWWVuz9MjamqVF1tYUBEEQBEEIEeKcCYIgCIIgzCPEORMEQRAEQZhHiHMmCIIgCIIwjwh8IeAvv/yX2PjFjahbFrTmpSBorv/gOu5M/xif+OjPG4lQTD6Yvo3xyb/Hup+/30iEYvO173wDH/lnP42P/9TPGolQTN6Z+iH+6Xs3sOZjv2QkQrG58PY/YjnZcNZzofj807eu470f/RjvdL1rJG6yvq25/uh6/NXn/spIBMGf/3ThP+G9qbfx+V9pNhKhmHz/x+/gt/6qHYnf/PdGIhSbPxr7C9z/sU/i13/hASMRisnf3/o6/vT/fQWHf73NSIRi84W/e5pseByrSc+F4vMn/2UAF751BZOHvmUkbuSnNIRZIz+lUVrkpzRKj/yURmmRn9IoPfJTGqVFfkpDEARBEAQhRIhzJgiCIAiCMI8Q50wQBEEQBGEeIc6ZIAiCIAjCPGLmztmZbrV4uXuLY+CG+Xw28Lk3DWDS7M6eSQxs8l4rbQfGzOdzy+TReNHOHU5u4b4tvIgtbwGLA/OCxepzT5mzzzvktKmF0klxedF0v/JB5zGo47rfMntplNwsmFwOOOtHL7ydCS/KbdeVqVd3W/kdywsd78J9E3rPdQ5re/UUlfHKzTGu9qHNpy3CCdeLuacgPQrSTR+5W7/N5qmrIJ3NkDvPf8/ruKOd7M3SZ+dnfrJsn6WfiVw2KLzk1nGX3jr0NUjub4MstC2amQ3ynit8zPI57cJoKgV+4ZO30f2D2Pri/HVKmgdu2teqtqeK8xtuySuD5i+BWfDqQURW9eGDqQuY7jhM+z4P4e49QN9Iuox5gBdcvQx06GPVtnmxMn4LW1di2shUeWUsgs/D8EO8sHXY7DlQ5/ORhxVn/ZzegcgzPoaUnN4FnTt0meQhoPWgMnaqrXAId1Td9gEN3k6nlT5Pc6dNt4Ha+DxxOnbzg7htyWi709dIbbIXtyvpgBt0Mi5jfd62Rp8o5CzspnpRejeCFPZgQUaHEqSb/vLpzb26ftTWR+ektnLWVZDOZsipI4sOI5XU55pe5XdtIWTGOr4mUDdVGxpbc4dUP7Kbz1lo+ew2KMzk1HHVJjC6Rjrb2aodqyA5t88lYwscNkjDDlgMkYTZtaBz5WeDqJ8IOXM6iKp7uAu4mNQRrxsDiDuiVPGjLNURrO4D6ahb9xkuTDjKd79uZIoxdBt5JNJNe5YsjoGj1nk4Ypcup78rf1Sky3Osjn51q3Mqmet+rOugKzlgyWjjaNmZbtTvow/21afv7Z7mFhYMUWexgntmepAadwBD5zyKtxipVeZPC1M+ciV9rE3lI/Qgbof1Iy/qnIrg8/DILdLIxlLtOmBjSp1Xn3WO8LPgTaqzeCUZUGJdDVKJYSywjZ6hylOnWIkUiVR9N9VgWslIEKd9FQ0nY7mb6pqNny+6U0p94RFzrMHqRI2xVM72qkp3mdDzFiKd1Pks53tcjOmmRkSGvR1ykG4G66yF7hQ32PoerLM+8rPnyIF4TDvGBHdkt9fpv8PMbHTcxqObqRXkeDnx6mle5XO3ZzjJQ8crTXvYUP1U0X9B8nXb8cFRp72w2of0eMs5pNSgxMkMbVBImVPnbOz1dmB1FBX09+SNKJ6zIlRjXRg8MWKnKdsRU/KbA81o7+X0JTltu7YCJrIVoxIadubqMW7kNwfGUW+nOwex9Yo+j4rYLR1BzJzT+V1OBluWpB0py8EiZ2pJS7WJAI6imsrYThU5WXzOxJYkupcmEL+u70ddBzti5LD17LOih6Po2teDgao2uh46dv8o2mr1aQTroTYkJlwjH4Y7jWlqTw5JsxOlImTGIKBVy4NSBAuHD9sOhf95oCIRfp2SihQ10Uh4uRGUC66OxXKwHLCDm6zEAq5XNnjG2VUdju08U29HI9fIVY50rsFtlyH1cPaEio5663jhS2QsT1uOtHHUaeSs29MRlQs9psOxuDSRYVyDdDNIriCHQEUXHLIgnQ3W5XM501GhZIY6buHWTW0j7qx4WdXTQuzNiOrmWz5re4aaXDrOUcbHgCjrGjtXZHOVsxUk16i0ZJSjjdYAZDHZGndbaWZmg8LKLJ/TdtTbzk4E9eyomFRhRW0dKqxoU53lbGmaV0TV/xXRavU/bowgcbwZ8QZ260wETpFE0iGvaIij+TjJ1B7Q9bD+ruiKZnKGYuA9+5w+uNOabar8ZHLcPpa+GTFyrMaTxrXbGIW60htJjLMzuFTf55KWQXLcRjBWFUN8o6mDA0BbKoEWp/IKecIhbGPIpi4gNUwPq0oFeFMKl036Mg1HxBagz3bm/M8TAI+EhxrLIgReKGoOiOqwqK56yEAaR2l6814are6hfW1IkRFp9Icd5FSjN0XJzvUOpGxjyUY33Z4fnF6JSLSc5uRkI0g3s+usihDZkUwiSGcD5CpSyREPVec6HbWwDObj5EOQjmu8usnRGuNkUfk7OOhxZPMtX6ANKifU/GB2vvjeaxCherDSl75yAzuzSjeHyKGdhW7626DwMkvnLD3nTEeLLCfHpPuWJrGbPx+znK0w455fp527CrQc4785alavHDdJZfqjoy8GKx1hMcGRtLThU2nKznMZnfb08pWuqJuaQ+Yc4eZ5HgvV8SWMI9JwWP9dLpEF16jWM+IlXOnLyhqk4sOIvMlt5HSgNtB5PFFPX7wdl0Gl1Gp8RsAGlXa6jEhZRM88kZuMlFiAbmbVWY40Uv0/kK7/IJ1dGCAHPzP282ZSblfKJFw5Yx0nMnST6iTRaNf19AN0PmeqNN/yXynMBoWL7Dqu5wdbdbQGKRrYceozSO5mtroZYINCzJz1Q3VP3UT/xXrXfK/mgc8rZ02lO7OhIlCDSJzWx6bLRxF1yCdPJzBoRbPmCBVp4yiY2hvDyD6gOqojdTZVUVSjHT3O+WicXuXIoEqz1qEtRfcvK7v4oOcnWA+dMwVpo+YkHEbEjKbUw6w6FB6FpiMr6ljzkLNjpkanzkhB4Hn8cU26Pk1GlCeSZgubhwTdURgnljuVeCOmPdNe/NKX7ISpaIM10uc0QSIPgxfghGWOZDnakI5e6HlDmdcWPkyHowYgOnWbMYIP0s1sOjtB9UpOh7N+gnT2TpAuu+Zj3UKEnO1ymAM1Gx1nMnWTDnY6b/ziimOOWt7lP5WlPUNNbh1Xg2fHwMLStSC5iqjZUUV2rqh9vM9NvgTYoDAzZ84ZuTlo6e0HWpYoB41Tk9Ycr5EV/a50ZCbpY1V5WJE2kh/T88B0OrEao8da1Jy2OaO2Tc8h49RkRM9vy5wrRs7X9fT12ddR1YLnNiSwRB27BFtX63lmKs0qLwTYqFTZJT3PyDl/RjkCKoy9BreThxBpoFE/lVGTbpWTRPLTVI6jAXwsjYzUG2vqLSwyFKa82lTEK+g89xiV1FlzCpjrpeEyUj2mDiZes1M13Mnzm3s6fanfwuK5Gs62Uscm/eZ+uFEdUEaHz0aYOkdXNGMxbvc0IqLmnnD7kDG2ri3k3GnrQ0rNjYy55r3wIEKncLLoeJDOcofvjcAVDD9DnD7m8+trK4s5ULPQ8UDdPGq1oTmnrfuFlC9fG+Sv444B9Dq6f6tNnLqWRT4Na/6ps30Kx98GhRtZ+FyYNbLweWmRhc9Ljyx8Xlpk4fPSIwuflxZZ+FwQBEEQBCFEiHMmCIIgCIIwjxDnTBAEQRAEYR4ROOfs5MWT+LVjv4a96/caiSD486VvfAk/vv19/FpUfnW3FLz3wY/wJ18ewO/Xf95IhGIz9N//Kz7x0Z/H2oqVRiIUk+s/mMTffv1N/Pba3zQSodj8xVcH0Ug2fBnpuVB8/ub8KVz77tv4zsHvGImbQOds+MIw/u3xf4tdDbuMRBD8+W/X/xs5Zz/AZz7xaSMRisl7H7yPPz//l9hZ81kjEYrNa187haUfrcDqj33SSIRiMvHO2xhJnkHr/f+rkQjFpv/iX6mXAao+Mqe/hyAEMHxhDDe+92189+B3jcSNvK0pzBp5W7O0yNuapUfe1iwt8rZm6ZG3NUuLvK0pCIIgCIIQIsQ5EwRBEARBmEeIcyYIgiAIgjCPEOdMEARBEARhHjEr50wtAK7WldSbc9HzUjJ2IPO77cXJzb6FX9mc8ALnkW6zOPoMOdPtqitr3U11nQdmdWYb17ns7/sd/E4kjoEbWnx3uIVXttyPRYt4ex7ZlhydfHUXFtmL4RJnnzfH0bbltXR7BskNeZ/HoMr7yMOKuh9zv0+bRZjdONuEN6tdguSsUmn5JrUmqhv1ubPOFW/haSpvX4OzHRbtwitqQe5yQN+nuq8cejQTHferb6fOOtvb3qzvmHgNmyzZPaXjFtw2Dl1z1gdvXp3lenfWU6HlXTru33bhpEAdd5Rx6WeGjSi8vNfW5LJNYWTmzhk5LE+0AP3XU+AXPlNmYfDSL/Y9ieRF86eDii270XU8gRGnU0LX3LOvGfGGAl8VvpHEoPlzJiinqQ4Y5XpS2yhQl3bQ5oqKLQmknqIvIsZeb0fzwE36rj/Dn6USaHEt2ltaJl89iG2r+jA1dQGnOg6jN+Dh4QdsWeuw2WPIGDQcRufpC+rYa03DWKYeyCC5xv88l3EkyeVHcAR7sNN5DWR8d7rKhxx1Pytxiupm6vQOdDzjZ0gnkEw0mjrhbTv0r9QFyKnDebBzhz5n8hDQetDtWKnPzd8OznS3osP87W4Harc+YFs0u7MeFvg+z/eN0H1p/XoxwFkoTMdNXan6PuGuJ4/OVmzuNe3FWx86QW3VtoY+ofNEh9Fs6vzUquBrCxV56TihHCunDhI3JjAUP4RrVn2petIop4Daw0WB5Sd5Ee4Obe94O1YOC80T+ep4hj1V+zDPPelmZ6vbmS60vNfW5LJNIWUWzhk7LNWIWp1+VQsS5Hi0sSVXURsr0jSJgU3GEWH5pgEMHDARJBPZ0hEfklM5JXdEktRnJtpkRbx0+W50k+w3dnweW48Dgy1PeKJDdYjtH0TidPqRnTydwODGOGLqmsfU8frcjsiSM8KlroPK1bXT/+2oN9eVeU3mHumaXOdSTGLkxCC6xtroiizq0Hb9Jl2Hx5wERNc42mfLfa7BXY9j6v/6fVwn7CzzfVrX5HfP2a59LriFN4aG0bSiUu3VNu7A0NA5db1O2MidbGTnzQiYiQmcp05m/Tq9W7F8JXBpApNBcvrb9zxYgyenevGovgTF2uWWwbyFV3ZT59W3w+yHn8k3h6kzqcRy3llXg87EMN7wGitVhyux3FEniiB5VSWazJ8aZxl2JMiY9jWafQMbTRzCkbjZ97RDxQONnnOGlbdwkjoLrVOL8VBTIzqGM0f7Ben42XPkUJg6rqxBc/wwTtodVHad1Z3oBuNU03k6HrPrvLbtAp403xVm8tJx1svdwLPUYTv1TDlPqyqRMUQnfd2JvTRocOtxoeWvXknbu/IhPx331c3KSqw1f2oa035DweV9bE1W2xReZu6c1bZhdD85LKazzzsKdHwrkg9z9Ogm+rEVT1gpxn0JoFdHlbr21dvO3JKWahNxGkW1MzJHzkeM5H99+AX0bwSaB57LiA7VPdyFwRMjxhEwTtKuFnrI2CGpJ1/FRLLGqrF1Fzs42hHrUnK6vot8HeRIjXXR8V0Y5ahUlmtqR4xknijVjREkjjc7lMtQVYE62pyMqeP1Nd0caEb76+SIqWgffbf5vq59PeRAjeEFO2qp6/EFR/1zBG10P9fJTe0sK4LuWeN77XNI2hkiEhO4av604JF/RqehHtJ0p6SMJB8bJKe/fc9jQcZ00aIYtpHD8Lgpw1G9waa9eFRZ+TLC1ZkMI+lxulXnRnX4oCcVECRH5SM4lqxEL8u5w7MjbdoZwOnteMjsa7QRPdVWY/YzUd/VUWOfJ9w4OxDCDBacFKTjvGM5H4bzV00bZdPZidfQe+kQnnVFa87lnY4KFTl0XA0Gjj7icar0YBGdrbo+nOnOddt9olyFltdOzFBrzJQvj8iwJreO++smD8oeQzLK9XEO6x0DtELL+9qaLLYpzMxqzlndU6ajv96P8TpnNCYLG/vxeVVzFYhtaMbglaQSY/9u4xhwxAsYT05iMjlO8piJOKXlio1RRPVfwdTG0EXOoHJclJPUhZj67iSSx8khUddMG0fGOAX65STGyQnTZSrQcsxEAh34X9Pbaq95hc8VVUVRbf7MRV2tdv74mpa0mERqVQzxjcYJPgC0KQdKRwW3LiXZphHEfK4zk4B7Nu3le+13HXpIOWXRwA/p/dh5ZaUZIQXJc0DGlNMMKnXEnRSHz4caPR3ZvYE3DbaWOhNOHQTJVfpGGT6S9wA7rU5KRcf6MpwOy4gGqiUdt4zq/pojRXRvUqAu59BZdnjRVGM7JMrZI2dhvWpPn5T+PcdiPHrU0m/aTq/MkVovtDw7Funy1/ou48FycoizEaSbalDMThbXSQ1Okp6rNGWh5QNsTaBtCjmzcs5sTEpz1JNGvPto54kjUCqlaTtVTHN6vpzayOlZYj6aU8iJ3DiYOapjJ2zTALRbx+j0YqQ3ipt0PRw502gn0YooWlFK7RjrqNkSkuX3koPPPRcpUubFGvUrPBGBrBiHirdjjTQitVMZAfI8UKmjxATGOXKT2INl9PCreSP8d7kYUteo1jPizaAS0binjRRpuUrVWJ2+SrMNY/DNWzgzTPVmogpqLhX/3Z1Q0QPtcMSwLaH/tuaNKGM6XIOpjKhGmPFEbvzSYEEE6bInwszRZxVtDNRZjvLQU/5AurNTum4/G4uxfBWd/0oZ9FxMQToegEqJXcbVfKukwPKWrfFmCsJJdh0P0s2LPECwI+RrsL6DdoffKri8v615K9A2hZ0ZO2d6zlPmG4zVUaqiqii5AeO6IVXESn+msKM1Os1oR2z2jZhzjWFknz5PRbTaV14IdY/3o3lfD544AfQ/brlm2mHa+qK5ehWtontRUa52jKhhkXaWvE6P/zV9TO35oyOE7XXOujLp010t8B5ppV25bhT8pqiaU1aHNnbG1OoxPHeMz6cdN05h5ibgnvVeEdHzE6wOgR8w+0HKyVuOt6xu4ZVnrGOD5EFwecdbh/yQ08P/iDNKdHoHdWKHcK0MHAY1l8vqEHjOUbwRD3nmYLCDZKcsJ85hMNGoOvUg+fIV1Ib2XEF+aUA7CzyHyapDNfeGJ0K3xR3RgxE154wnvPOIl8/P83Sck6rDj+5AtHOr02CdjfneX4Au8zwqywlQ7aDnpbkim16d5XLkpLja2jUfi5zsSyiL+VD56Lg/VMdb0pEV5SBkPbbQ8v62JmdiY96TW8eDdHM1O6id50ydpHWw0PL+tmZNoG0KOzN2zvS8pvScM956Vpg5TioVZ9Juu5LwLkeX2MXll2Ar+vHcFtMVbhxHjzpPPdr3j+rz1Lbh5sC4+Y56jLvmUFlUILra74UAg7mWQVgvAjDs1KQjUZG6cfRf5wn7PFHfStE6rk85m+aFgLyuyQ3XVfoYfRzP/XIfZzlx/PkTwIYu4GISk1UteG5DQkXH1DWt5rrheXCwz1d/0VGPgQTdc/Gp2LwXRy7pEc+DjvkwLkfAF075cBrBRGBW9Zk5HkHyILg87HlUfA1lnU6rfATPcjpFjUgv40iP1Xm/hk0mysJt0jxk5sVE9wB9e9W8jmB5r3rTT41yF+m3tgLn9gXBaQwa8abn4/BWHnNyatt0CtjSR6tu+O1MK2LoTx46Tu2wNluK2ILfKsyI2BX6rISEPHTcn8V4tKcRg6o+OAKD9LG+FFreY2v4LcIysTX+Ou52Rn1Zt12nd1Wd5KGDBZafE9s0DyntwuccrSFvYDTldgo4CrfkRBw3j3HUSAgbsvB5aZGFz0uPLHxeWmTh89IjC5+XFln4XBAEQRAEIUSU1jmrbUPKEzVj1I+nStRMEARBEARBImeCIAiCIAjziaxzztYfXY+/+/zfGYkg+PPSV1/Cex98C79TvclIhGLyvfffwWeHfh9ffPRPjUQoNgff/I9Y8/Ffwm/84meMRCgml779NRw+148/+40/MBKh2Pyff7OfbPhmpedC8Xnmr4/gqze/hpt/6P/6SqBzduzcMWz+682orsz3J1SFe5VvvvNNTKemUPnhjxuJUExuT9/Gpbev4FcqftlIhGKT/N4EPrzoJ7H4J3/GSIRi8u7Ue7j+g0msXPwvjUQoNv9wK4mqj3wcP016LhSfa7du4v0ffYB3u941EjelfVtTKEvkbc3SIm9rlh55W7O0yNuapUfe1iwt8ramIAiCIAhCiBDnTBAEQRAEYR4hzpkgCIIgCMI8QpwzQRAEQRCEecSMnTO98HnmwuBjB3i9x7he5zJocW0l1+tC2pta3NtCLzru/5kQPnjxYL3WXM61FHltPHshaOLs8+Y4vWWsxTnL8rz2Ybq84zwhh9ctte4rcG1HZ111v2WE7jpJ15+zDZ3nDJLzmnuW3FGvqv4teXmsq6lx3G/Q2o7O+vYr49Vlha5fZxv6t0+wXJN5nrCTW8cDdNNlI/LRTed58pEbfNszzOTWcWeb5LYpFkG66SP3tVkB7RxyZhc529gMnBhxNNIYRvaZP3PShdFUCvyyaCp1E/3YiieUozeG7sgSJDbcNJ+lcJMX/hYHLbRMvnpQLV47NXUBpzoOozfj4bSgh2z3HgyZPWby6mWgQx/Lm3sB3NmWv4Wrl4DO07rs1FSvWuQ79FCnsLN1JU7xPZ3egY5nAhyBBugyUyM4cull3YmQ8VOLNbM8eQhoPajkzjZU52zQnZGS4xCuqfP0AQ26MzrT3YoO0w7XSLxtN1+Drv+1pr5ZFx50GPAww/fLCy6rusQevJjRQVDHxgt0J019U5mdrucgU5d1ZxjDtoTZZZztQ+fhRepVZxQkV/icJ+zkoeP+OutsB6ObUZbr+odqQy4PPGgckCD7ld2u+bVnuMmp46pNYOq2D52drWndvGRshMOmaIJ000ceYLOCbFDYmZ1ztjqOOJL0z3BmBO37u8jtKpQKxDY0Y/AKnYnPsbEfz21JL+ZUseU53NwVM3tCuLiFN4aG0bRCez21jTswNHTO19Hmh2yw6RA6zT5z9Ur6WC+zLz+BZKIR0SqzWyZMvjmMoXgllvPOuhp0JobxhsdYcRn0bUCt2luMR48ax7SqEk1KZrESy0lesbkXU21rjIww51f13VRjll6rRDQ+jOQNYPmKRiWxWVVJZfh7LuDJdUZGBLVVuHgLJ0mp1i7ngcBiPNTUiI5hr9O5Bk96nH9dXpOpm9S5bzmH9dzJGQmjBx81drstXwWcv3orUB50nrCTj47766y7HSoeaDT6rm1B8wOmTfg5SEzgaqD9ym7X/GxTuMlDxysrsdb8qTG2dd12TB19xLE8o7YpwboZoPsBNivIBoWdWc45iyK6uh0jJp479no7uh6eiRM1iZETg2heEVXnwOqooyGZClTU0mb2hPDh7IigjJ4HHnUNNeLZzcZqKrRBGGqNmZC1I3UwF+XPnkMHhmnkbELiZRLFUShnyCLAWF05kU7jWPde+QiOJSvRy7LdwLNT240xZNhokrzhMDq/oI0tO2HpTok7OO0UcMd4bcXL6tw7sdfdSfIImOQc6dnlimyGGY+Tf2nCdwCi0zIxNdJ/3HJSfXWZOx9n3Wsqlq8EOs8ZvdaR36ErE4HyoPOUBfnouI/OOlFOnnJqdac++KaJft2YwBAu46px+ILsl6/ctz3LgVw6zo7vY0gqe8rOlXswolKbUY5OOh0sP93MorM+NivIBoWdWb8QUPdwF9pf51llnNLsQixvK9COenvO2RJshY6WRVc0m8+FewcyoLuH0dzjNZ78sHOoWm/X+i6bVMMclecRnV2ew+StPvMhyhMebQ5dqiTni+89nYJQc0aUU0byHmCna84MG01dHg16bkfF5r0qxbFMGcxzIG+X+I7qEJVTRud5Fgfdc1TYAeTzc+rIb65OOWN07lrTMJZl1eUA6HiVDlb1fRDJVSZCGSS/58nUWRtylJeRE3VNDRyoXA+n3MzAbph8XV2qQApsz3JCDTzYKeP6rsFJqkdnfde2sVyn3GdiZ4Nslr8NCj+zds5QG0PXvhGMqZRmDHVGnBvnnDPajrUoZa6IVgMXk2lDrtAvCHTfU1a8vHCNZKx0hMXEOQwmrAhWq4lmZc4bUNEBHp0WpbxOBeloQxngGtVmpm5V2tGOPHDUQLeRK0VQWYNmZzTBJl0+3fnxtgHRSxxN+JErRaRSRz5pJ51CTUcnwo0ncuOK6mRSqC470Z0cb71YT+Xt1FqAvGzJoeNunDprBiHDNe50mzVo4O1zlThvp9+C7VeGfAbtGR6y67g7tb4G68lJykzvz9zOBtksfxsU/oj87J0zcsdi+9vR0zuu0pKzhp2949bLAZrJo0+oyNrn847KCfMHPT/BehjPDB92zA8wOI2immfQiCNJDonzpNB0ZIWPVQ//XJW/QSM9O5WpU6KdjY70W0jRzpBJsXDqNt6Ihzz9tCpjp8F0KoANml+KgOXcmdmjXdUBaedLdXJWHZ49gW2JHVi/zi9FxB3dLbyyJd1R6XlDmdcWPnRHpDsKPRcpU48K1WVT0AtHJ6wo5MRr6O00TnCQvEzJR8ez6WxGqp0jXo43A8+8tMekO4PsV4C80PYMDbl13C+1rgYIrJtzYGeDbJa/DdK7YWYOnDOd2hw8TgOHBr+xojN9SduBjB/W8FCHttQoqluW2McsORHHTRNZE8KHCjtfaqWR5P3qrZ1nzTwjl/H0ZQ2eVKkvHoXqOUqnXAbVS4HlORUEfV1qlNvR55qsHlqog3iWU7p8X/xmmpVi4bleVgfuLEP3zm9h8b3zXLFTq6wUgVO+V6UjVF1F+Y1L3eE421Z9V5LnivBItg9rrRSRU97TiEEVVbgfy/htO9dE4fBS22bdb0y9wWfpEc+z0R2+Rzf57bWsuhwA66zVPo52CJSXK3nouK/O4jXsbKVBgT0vlTd2mnVa83yDljnbJ8h+BcnLFX8ddww6SAfVVBJVp7qMelveY2ctm1IwgTbLzwaFH1n4XJg1svB5aZGFz0uPLHxeWmTh89IjC5+XFln4XBAEQRAEIUSIcyYIgiAIgjCPEOdMEARBEARhHpHTObuTuiObbFm3afrHUxfvpKZlK8HG//Sz6f+5bHO/pcw/v89km/ttmjaqbt/PZCvOJvpd2o3rOxuBLwT0n+nHZ//2s2ZPEARBEARBmCs+dPtDeO/Ae2bPTc63Nb/zB98xEkHwp/t0N955/zoOPLTTSIRicuu97+L+P/vf8M3fPWUkQrH57S8+hYaln8Jja9wrjwrF4czEW/i91/8Ipz/XbyRCsXnoyDZ0rf8CHlhabSRCMfndl57Gl75xPvBtTfkpDWHWyE9plBb5KY3SIz+lUVrkpzRKj/yURmmRn9IQBEEQBEEIEeKcCYIgCIIgzCPEORMEQRAEQZhHzNI5m8TAJse6mbR1Wyv7zogxdEfiGLihzzujc90YQDzSTWfycKbbdZ1qy7nOZ2GMHYggrhZst+5Dy4VbuG/L/fiJRbw9j4VGajPxmvnMuZlyZ59Py7a8Zivsgld3ZZbNIuc14O6z5EHnsRfnDT/O+7rPLObsZGG3uWfnZtY5dX3mJ8v2mZI56treduE+XiPa1dY+uhBa/PXLRdC9B+i4Xzsw/jrrfMbScvfz4P4s7Mxcx536afSSCWofr32y6i9IXrZk1/EgXcumg/467q/LGXbF8Uxo+HNHe4YcXxuSH+xALcHW1aPqN67Udr0f43Vz4ZRUoOVYCm0zWb30RhKD5s9MujBqXWtqFF37eubQgZpE8qL5Uy3enkBLldm9x1nw6kFEVvXhg6kLmO44TPueh6ryEfWZtU13AKnT23GHH7aGw/S3lt9pGqaHmR5UMooLW1di2i5P52RjESSnr1jY3YpI3wjJR5DCHixgY67K03cluXwfUp2tvkY+dDjr4fQORJ7JNKR32nQdqS15CIgfwh1epJgchQWdO/SxLG89qIxdYeXX4LZVlrY7fY1A317criSju3sP/c3tQJ+dJt0IcmRChq9+uXDfu9JN1emwjl82OqiPXcjPh7NeWT4U07oZoLPOZ8ySc+c1vbnXyIwcdM6ZLLg+35iFjqu26tB1dacPiOzmY3X7WLYm3T7EDXoA+FjrXFb9BcnLlFw6HqRrgToYoONBupz+fpIrW2OeCYb04ScW0edmtxyYuV088wK2oh83n6ozAqKqBbv3DyKpHB4dPeo+EEdERbI8UbZNAyRhHPIDI0piyazI2eRRPodVxkS7OBK2qRvd1rHqfPSdde30YTvqC42KOSNrzmP95Co6Z2QmQjZ59AlsPQ4MtjxB+54I4IH0OexooOMc6nO7PsqNW1gwNAysqFR7dxp3AEPnghWPH9hLhzC9jv6emKCHbQdS/DcxvXwlcGkCC5Qzx86bRp2TCZJTBxjppA5tOTkTWIzppkZEhsnwVlaSoXBCTkQZONQL3qT6jpt7W1eDVGKYHFf1kQ+mU/rCI/qnbat0O6VZiZRLVGB5qxNlRw50EYlGpB7gvwk+NsFtHHYC9MvFYqRWmT8t1DPBjmwvOa5axPB5Fly9DHTUGF3Wx0auktMWoLOqA7SdgzVI0QDHi+7cNtjPR5iZjY6nVlCdOVlVSfLFuH30Am4bW6MwNku1hSrjJkhenuSj42mCdM0pD9LxIF1WzrayI0QltXlc/6kGOLvpc3bYyogZO2eTyXFgdRQVZt+i7ilnxGsQ4yueQyrVhrobSUR7HVGr4wmMWE4NO3ksf5jdKg/kHC05Edefp26i/2J92sE5Pm7OyefbihfO1KFtrIs+6MKo02m0IafNOESRSD35jya6xY5S3Tj6r6e/Q6UnA+RjL24FBm6SLIWbA8DWF8dQseU59G8Emgeey4iYtSNmyjajvZedMHLadqXPEcu867JDP9SGwA6ZjOgzl5HqMR2/6ogOI2JGR+ph9jl24fBhoKkmw0i65R7Hi5081TE+BkQ5TH4OKU8nGWpcnQZ1ZEER4rMn1CjV7pTYwU1WYgGnDdjgOZxdRYHlF77E0QhLRpUbH0bkTRM55cgDLiMS2KmGCT/9csOdy/SVmErJRBodHQ1Dg5KfWBQj3dYDEzUQ6TxnUmu3ELlE/13hispHZ7kjdTjBDDnJPOhR0c5yYYY6zp3/nRUvq3ZYiL3uiJeKwNyvIzqqrszgkqM3rON22ixIXs7k1nFFkK555ME67sRHl5mJc4gkrIE7PRNHTZ9RRsw8cuaB51tZ0SFn5Kk6aty3qjrUVVlRsnrjjkxi5MQgmjfEtJNXGyO3yo1yAsnxWqLOvURFp9pft85fjahSliiief38kDutiToTyeJU6MY4YupcFYhtaMbglWSgvO7hLgy2LKHriWOkIYGUryOYpnlFVP1fETU/7ndjBInjzYg36Lrh8wkEP3BkAKbtzoYeOk5ZNLDxI0N6hR5mDzyfYQH63B0dESR3oTpE7uA4fF6DCH1HWaQ1C4Ad2FRjunNS80OUk0V10kOfezqdwsqzYU1HPnl0fLtHpyNUh0Z9m++PLJYler6McsqorlLDdP/2XBpi3XYlV6l7TvXSvkqtqY7/IDkiJtqTU2dpgLOlFTjtdtpUpMlnAHMv4NZZrh/jlHF946B7/pQ1xYJT7mremY6oKZmSr0Qkmk0uBOlahjxIx238dVk9S9FhpJKegWOZMWPnTDkaF5N2Ko4jZlZ0yBeVHlyC5C7tGBXkjux3zGvjLYczlB91iO0HxpMzSCbWtpl7BbYuJaexbFOSc4dKyVhY6QgPvg+16bTUxs+u41ieTJox8iX85XRu58iaRt1whdV1+DxbqD5UuEa1nhGvjdd5ovu/4mgDlTpwRLoKLX+WnG27fg1W58fb5yrJGfemTcNKpn659NiTolcpdztqkEZFE0x0OD1nqpd0ns6/otKTCvLqLDuA1Mn1eNJzKspDjrA3+hB2ZqTjNHJwpNanH6Dj/FKiKl3vE9UtVF5W5NBxRZCu+cv9dFwToMsqsllmWY4AZh45q/08+rEVS1xzu3QkLJCN/fg8pzzPjJjImYlGnRjRzo0tT6OcQHvivo686TciZ8sYRvaZyF5VFM0mzWpH8zjaFSDnKCFH3Cq2JJBSadQCqYohvnEQidP6PsZeL+e0pp6fYIWrg1KQ/g8vP6DpNMJ9z6SPZQcsIzVE+MtNJ6YcRJ2O4JG0b1jdNg7hRXc4Jv3LDlLcGY104OM8qfk49pxAqvgEyayUdIHlvVE21YZb0pEeTnmmHY0w469fLvxS9GqgwTqejrio54PrhCNkVkSH00EmtROss3yegE4rIyIdfmau41QoI7XOAwTWzXTUV89p43MWKtf75UceOs4E6ZqfPEDHA3WZHTO/qRZlysydM3Ks+I3KUdTrVKaVduS3N/0iW5yytNKTr0fRT84Jvzig5mqxk6fknHj0UNuWjlCZ8ye2eGe6OWCHilw8/xcC3HPO2veP6vlxVS1IjFVnfkeAvO4pnRJV5+E5ab0tVBsViK62XgjQ3xYM1V1vP6BSoxGMFBZHDB3Tm/cidUnPzXDOOVApMfvNTe7YvVEUTmtyuoDD3jH9Bg8fSw/1gk4yFCbdqTZ+yIPkdKY7bX1IqXSaPo8aja2jh7zvsgmrO84fdiofSd8XvwlozeFj4+ZI4SgHweOM8nyc6VV7sFDViX47yhq5FlaeHQfqQF3RDJ3WtNpH6YIn6hlWfPWL4MGCdkZJl5Ppe1cvSah5MqzjVLeq/hx1wikfq16jPG/PdFQBOqsmWpPzZ51HbdazxQ6Ib5QjxMxYxzkdabWVOValx1g3G42tcbaPV06DD/VdQfLyxV/H3YOLQF3zkwfouL8u/6N6qQMJy9borZynocjamvMAjsTVk5s7N+na0iNra5YWWVuz9MjamqVF1tYsPbK2ZmmRtTXnJdaLEXqr3xf0dqkgCIIgCPca4pzdFXRK2H7BgX9qxHwiCIIgCMK9jThngiAIgiAI8whxzgRBEARBEOYRgS8EJL6cwG9+8TfxmehnjEQQ/Ln6vau4Pf0+fuFnlhqJUEw+uHMbZ775FhqWfspIhGJz+dbX8S/++Uew5Kd/zkiEYvL9H7+Lr33nG/j0kn9tJEKx+crk3+MX/sVS0vMPG4lQTP7x5lW8+977eKfrHSNxk/VtzfWvrEfiswkjEQR/jl48ih998G08dn+TkQjFhDuu33mtA69s+GMjEYpN79mXsPrnPomH/2W9kQjF5PKtf8Lz54+h9+E9RiIUm93Df4TH12zAv/65XzQSoZj8P6+/govf+jq+dehtI3EjP6UhzBr5KY3SIj+lUXrkpzRKi/yURumRn9IoLfJTGoIgCIIgCCFCnDNBEARBEIR5hDhngiAIgiAI8whxzgRBEARBEOYRs3fOznQjEolnWexbL1XUfcbs+qHOkV7OSG2+C5fPHF6/Mn500uwJpeUWXtlyPxYt4u15ZFMFXrh406JdeGXCue9z7NnnjYy2La+RlrmZfHUXFnW/pXdc57C25/Eal/HKrWNCjrp/c09P+y4O7GwT3qy6dcvTxwbJ/b7rLTxt9tObo00Vuoz/tYURxz376KMLr4776LKzTu1N6aan3Wx9DZKzeU3LN1mLoZcBuXU8jaqDjGfbo4NeO2GXd+qzU4995AG2JqvNCw25ddypa866culzRjuYz4PseIacr8NjT5zPkM/5w8isnbOx19vRtb8aidNZzVEedGHUXs5oFF37erI4fIUyieRF86dQciZfPYhtq/owNXUBpzoOozewg6AOZvceDJk9ax99I/axD6oHjx7OhsPoPH1Bya81DWOZ44FkA7GsddjsEZWP4BiV47L6PKBjt+ORzb22bGqqD53YgVNta8xBIYY6iJ2tK3GK7+v0DnQ842dIJ5BMNOJI0rr/7aglqWorHMI1Uydo0EbQ2YbqnA2mw/H9rjV4Uh2vt2t9jWjq24tHK/kAzZnuVlAzlA18P+eVno7gCPbgxUBnwavjrMuXTTvoY3fS81ERoJuudmB5Z6tyuILk3Gk92EnHKvkImodi5eEQ56XjBlUH5m8HGTp4YwJDcUv3aTO2QJXr0HV7jR6Jbbv1d/nKA2wNP1thJ7eO38LVS3y/1v336mdetRWMjmvddOmg+txhry385CTbtMjTbixrgK3jRy697HbcQsosnbMxjOzrQuypGKpbXqC9NBypUhGwTS8gaWSMLVdbt+uYQJyRNWdEzU9+YwBxS2YiepNHn8DW48BgyxNz6PAJ+XELbwwNo2mF7plrG3dgaOicryHlDmaw6RB1RBaLsXyV+dOgzjMxgfPUWa1fp2UVy1cClybUOXmkdbJRG0Vf2FBfOoTHzbEW2vBsKAsjOvnmMHUylVjOO+tq0JkYxhteY6XqcCWWOxwm5uoVaqumGlSovUpE48NI0jOjnAWn42rOn/O7lIFdiV2bFxsBwW1ADuCRuNkPPW/hJCnt2uV8j4vxUFMjOob9R++ZOs6OrOnEDPo8aZy66W6HNVhv9DxIPnn1MtBRY/RaP0/nr4Y/epaXjivY+SXHgAYILnx0UNXVqkqj+2mWr/Aca8oEyW0CbE04yUfH9YAvWmV2LSorsdb8qXGW4cHKMJr7dph9Cz85teVu4NnkITh/UZN1AbbtXoxHj7qfp7AyO+fszAjGBz6POvoX29+OESt2S05TPTltKhLWG8U4OUYacqAetqJjN9G/0XEM2lFvO1X1VDSBFm5AdrbqxtF/3RxzsV6nJwPkYy9uBQZuqu+4OQBsfXEMFVueo+8Cmgee0+cUSo6rw0lM4Kr504Y78aFGPLvZ/VTVtl3ArisxFa5mp+sYd/LqYT+Mk2b0pYyqOSd3Uk8GGkN64J+5jCM9j7iNKH13LxnRZ50ORNhxdRTawXKiOjeqwwdNKsBKd3GHk3ae2dg6O3OqP06dcdTyC446zPJdZ17ag7WuyIHuLE+11Zj9csHTKZnBgosAHVdQR75oUUxFLV2deVbd5A6zEc0PeD9Ly9XApfOcnbLmyMbQlTIIKzA5dJxhxxakfw+ZfY2fDupBJDpbTXosnTZjm3JtxctKvhN7bSc4SK4JsDWhJoeOnz2HDmqHbVFvepEHII8hqeTnsN4xGNGDlb14VHnZafzldJ6jAfV55UQ6nSxpTfKfXh9HvEFXVd3DXWh/XUevONWJ/TFy2YiqGOL27zaSG0dWWkfPlqhoVhp3WhN1Zp7ajSQGN8YRU0pRgdiGZgxeSQbK+ToGW5aoqNlIQwKpp9RVCPMaM0rKMGRkROlhY6eMw+Trh60Hjx5SlVrTD+POKytdI6lAJs5hkAzMQ56+UY287GjRvYGKtJjUC6ca1rbqdFfF5r0qZbFMGbpzcOcPeFSqy4PqPnd6jJ2EdISTsTrLtLN2rxCk44Z121VbqBS9Y45NsG6yo8x16Y0SeOR0XjUdQLXnQSRXeaI95YyKjvVlDNb8ddDSbbOdXklOBqfuuT6N80XyZ3HQzIEKkhsCbE1ZY3RYb5xeTKfWtVPG8hqcJF1UtsMerHgGF0HyADjaP3SpEs+q8/ukTUPKzJ2zGwPo2TeIrUtNtKuOHLJ9I9nTlCbl2LOCI1scOTPyDDgSB4wnM8aeualtS0fN+No2DWSOYIWS40qlWOkICzZkCWvExfMJ+G8auX7Fnb7klKgdBXAYgmPU39gpjiz4d3Q8YoZP9CHkuEa1PqkGF5y+tNrI2UltQPRSZprNXZ4I+i4eSdspNUanRrRTHcO2hP67HAxpRuTGm+IK0nFPEEtFuuzIcpBu8qDlINBzweN4+Ms5+qzbsxfr6XutKQahJ4eOnxk+bEfC1BxU/rs7kZ8OVlXSgO8yrk7oVJ3VBhUPNKJJpVCD5Gq3TAd8OXTchU6hc5TWnVrXKXdOiarofcIMBBuorfhvcnAvBsiD+nGVXravxWObQsyMnbPJ0wkM7h81kS69je5vR8/RSRW9sh21GyNIeCJku7dQNWbInfBcNqA6SuWqomg+nsCIUopJjJwYRPOKaKCco3IccavYkkBqjK5DuMvo+QlWKoUNZnpOk8E1iZYnP/NEdRr5f8onfamcMO6ErI6NRrDP+Jwzg4COrgxHuLqjMB08O0hxn2jhq7vSb+4px0F3NOrtKCstcPYEdV7aOQ4qn+27uK07G52pHueLAjSyJiPKk4eD09BhQXc4ukPQ6TH3fRNBOl7Jupx+m085FFZH5qubXN6dGtIEyDlqYXVsnCL1TYOGj3x0PO2U6pdSwJP32+IBOsiRsLSzrBwHdU4973LwTaP7/NKAmqsZJOedchzw5aHjrGt2SlEPxLiMX2qdBwiu6P1pGnjzyxhHH8HqAHmQfVe6YJ9fT8XIHFCGjxk6Z9oZ6nrYnTJUKcUTI5isbVOOmppDtisJezk6leK05FTnruiYe85ZOzl+bWyhqlqQGKs2Ebol2Lp6FAl27gLkdU/plKiO5o2jv7eFGrUC0dXyQsDdQqXKLukRLE+QtcLVrg7fF+rMk4dwXo1yefS7EqfUQ8ppTU47mNHvqj49Fy0r/NBmToBXRjXrCDCEkCPwbN9lncriNwGtVBp1zptMR81twm/uqTkaUX4jVr9N6WwrdWxSp3+85ddaabOg71JGOFfErnyobdOpYUsfLYeT3xzOHhlkXYY994+fj2vW3CUf3eSUXIdjriBv/AwFyVVac5WJQjjbLezkoeOFsRiP9jRi0MyXWtYKc06OJFtta75LPRNBcibA1oQcfx13DC5Y12DN2SN9JGdYlSH5Naut8rbXBeDUBfpefqM0/AM+WfhcmANk4fPSIguflx5Z+Ly0yMLnpUcWPi8tsvC5IAiCIAhCiBDnTBAEQRAEYR4hzpkgCIIgCMI8Iuucs/Wvrsev/fNfMxJB8Ofr01/HndT7+MUFnzASoZhM4QO8eWccsYVlMOs1JFya/hp+JvIRVEY+biRCMfle6h38Q+qfULvA80agUDTOTl/AJyPLlZ4Lxefy9/4J30/9EO/+8btG4ibQOfvu+9/F0ral+OWf/GUjEQR/vhv5Lqbp38+mftZIhGJzfcF1LJ1eavaEYvP2grfxodSH8OHUh41EKCZT9O/bC76Nyukye+VxHjOxYAI/l/o5LEotMhKhmHzznW/iduo23v73bxuJm0DnTBAEQRAEQSg9MudMEARBEARhHiHOmSAIgiAIwjxCnDNBEARBEIR5hDhngiAIgiAI8whxzgRBEARBEOYNwP8PxNOsZ7+oqroAAAAASUVORK5CYII=)"
      ],
      "metadata": {
        "id": "UjzDheQNNCUW"
      }
    }
  ]
}